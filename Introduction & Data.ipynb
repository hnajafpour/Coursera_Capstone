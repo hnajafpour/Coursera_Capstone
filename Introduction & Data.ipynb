{
    "cells": [
        {
            "cell_type": "markdown",
            "metadata": {
                "collapsed": true
            },
            "source": "# Introduction"
        },
        {
            "cell_type": "markdown",
            "metadata": {},
            "source": "## Background"
        },
        {
            "cell_type": "markdown",
            "metadata": {},
            "source": "Manchester is a lively place in the United Kingdom, full of music, sports and leisure activities which students and professionals alike thrive off of. Since the early 90s, the districts in the Greater Manchester county have reaped the benefits of having Manchester become a capital of entertainment in the United Kingdom. As a result of this, business owners look at the potential to build their business there, and would like the determining factors in deciding which district it would be preferable to set up in."
        },
        {
            "cell_type": "markdown",
            "metadata": {},
            "source": "## Problem"
        },
        {
            "cell_type": "markdown",
            "metadata": {},
            "source": "Whilst business owners may find the county to be a good opportunity to set up shop in, crime rates and the general safety of civilians and their business do pose risks to their plans. In this report, we will look to find any correlation between the number of venues present in the metropolitan county, and the number of crimes committed throughout the month of June in 2019. This will be done to determine the safest districts for business owners or law-abiding residents to spend time in and build their businesses at."
        },
        {
            "cell_type": "markdown",
            "metadata": {},
            "source": "# Data"
        },
        {
            "cell_type": "markdown",
            "metadata": {},
            "source": "## Sources"
        },
        {
            "cell_type": "markdown",
            "metadata": {},
            "source": "We will be using the following data to help draw us to our conclusions:\n\n1. Foursquare Developers Access to venue data: https://foursquare.com/\n2. Open Crime Data from https://data.police.uk/data/open-data/ using only data for the month of June 2019\n\nRoughly 32,000 crimes are committed per month in Greater Manchester, giving around 384,000 crimes committed throughout the year. Using Foursquare data in tandem with the dataset acquired from https://data.police.uk/, we will seek to find any sort of linear relationship between Crimes Committed and Venues in the Greater Manchester area.\n\nThese datasets will give us ample information on the correlation between crimes and venues in Greater Manchester."
        },
        {
            "cell_type": "markdown",
            "metadata": {},
            "source": "## Cleaning & Appending"
        },
        {
            "cell_type": "markdown",
            "metadata": {},
            "source": "The Open Crime Dataset acquired will first be rid of any unwanted data, such as the crime identification number, who it was reported by, etc. The only pieces of data we will be taking into for this dataset are the districts in which the crime was committed, and we will furthermore determine the number of crimes committed per district in Greater Manchester for the month of June. The data included data regarding districts not in Greater Manchester, such as Cheshire East, Rossendale, Warrington, and West Lancashire, so the rows relating to crimes in these districts will be removed and disregarded as well.\n\nFoursquare data will also be used in order to retrieve the number of venues - for leisure, entertainment, sports, food, etc. - in each district, to subsequently compare to the number of crimes there exists per district in a new dataset, and we shall append a column to this dataset consisting of the number of crimes per district in Greater Manchester.\n"
        }
    ],
    "metadata": {
        "kernelspec": {
            "display_name": "Python 3.6",
            "language": "python",
            "name": "python3"
        },
        "language_info": {
            "codemirror_mode": {
                "name": "ipython",
                "version": 3
            },
            "file_extension": ".py",
            "mimetype": "text/x-python",
            "name": "python",
            "nbconvert_exporter": "python",
            "pygments_lexer": "ipython3",
            "version": "3.6.8"
        }
    },
    "nbformat": 4,
    "nbformat_minor": 1
}