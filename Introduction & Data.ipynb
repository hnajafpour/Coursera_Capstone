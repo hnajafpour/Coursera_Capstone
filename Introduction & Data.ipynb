{
    "cells": [
        {
            "cell_type": "markdown",
            "metadata": {
                "collapsed": true
            },
            "source": "# Introduction/Business Problem"
        },
        {
            "cell_type": "markdown",
            "metadata": {},
            "source": "Greater Manchester is a lively place in the United Kingdom, full of music, sports and leisure activities which students and professionals alike thrive off of. In this report, we will look to find any correlation between the number of venues present in the the metropolitan county, and the number of crimes committed throughout the month of June in 2019. This will be done to determine the safest areas for business owners or law-abiding residents to spend time in."
        },
        {
            "cell_type": "markdown",
            "metadata": {},
            "source": "# Data"
        },
        {
            "cell_type": "markdown",
            "metadata": {},
            "source": "We will be using the following data to help draw us to our conclusions:\n\n1. Foursquare Developers Access to venue data: https://foursquare.com/\n2. Open Crime Data from https://data.police.uk/data/open-data/ using only data for the month of June 2019\n\nRoughly 32,000 crimes are committed per month in Greater Manchester, giving around 384,000 crimes committed throughout the year. Using Foursquare data in tandem with the dataset acquired from https://data.police.uk/, we will seek to find any\n\nThese datasets will give us ample information on the correlation between crimes and venues in Greater Manchester."
        },
        {
            "cell_type": "code",
            "execution_count": null,
            "metadata": {},
            "outputs": [],
            "source": ""
        }
    ],
    "metadata": {
        "kernelspec": {
            "display_name": "Python 3.6",
            "language": "python",
            "name": "python3"
        },
        "language_info": {
            "codemirror_mode": {
                "name": "ipython",
                "version": 3
            },
            "file_extension": ".py",
            "mimetype": "text/x-python",
            "name": "python",
            "nbconvert_exporter": "python",
            "pygments_lexer": "ipython3",
            "version": "3.6.8"
        }
    },
    "nbformat": 4,
    "nbformat_minor": 1
}